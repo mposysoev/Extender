{
 "cells": [
  {
   "cell_type": "markdown",
   "metadata": {},
   "source": [
    "# Extender"
   ]
  },
  {
   "cell_type": "code",
   "execution_count": null,
   "metadata": {},
   "outputs": [],
   "source": [
    "using BSON: @save, @load\n",
    "using Flux\n",
    "using Plots\n",
    "\n",
    "include(\"src/Extender.jl\")\n",
    "\n",
    "using .Extender"
   ]
  },
  {
   "cell_type": "markdown",
   "metadata": {},
   "source": [
    "## Parameters initialization"
   ]
  },
  {
   "cell_type": "markdown",
   "metadata": {},
   "source": [
    "To extend a neural network, you first need to initialize parameters for the input model, the desired output model, and general parameters. These general parameters include `epsilon`, a small value used instead of zero for initializing new weights and biases. This is crucial to avoid getting stuck in gradient descent, as zero initialization leads to zero gradients, making weight updates impossible.\n",
    "\n",
    "**Input/Output Model Parameters:**\n",
    "\n",
    "*   **`file_name`:** The name of the file used for loading the input model or saving the output model.\n",
    "*   **`structure`:** A vector representing the number of neurons in each layer. \n",
    "*   **`activations`:** A vector containing the names of activation functions for each layer (e.g., \"identity\", \"relu\").\n",
    "*   **`use_bias`:** A boolean value indicating whether the neural network uses biases.\n",
    "*   **`precision`:** The precision of the neural network's weights (e.g., \"f64\", \"f32\", or \"f16\").\n",
    "\n",
    "**General Parameters:**\n",
    "\n",
    "*   **`set_weights_to`:**  A small value (`epsilon`) used for initializing the weights of newly added neurons. \n",
    "*   **`test_samples`:** The number of samples used to test the extended model with randomly generated input."
   ]
  },
  {
   "cell_type": "code",
   "execution_count": null,
   "metadata": {},
   "outputs": [],
   "source": [
    "# Input Model\n",
    "input_nn_params = NeuralNetParams(\n",
    "    \"example-methanol-model.bson\",\n",
    "    [8, 30, 30, 30, 1],\n",
    "    [\"identity\", \"relu\", \"relu\", \"identity\"],\n",
    "    false,\n",
    "    \"f64\"\n",
    ")\n",
    "\n",
    "# Output Model\n",
    "output_nn_params = NeuralNetParams(\n",
    "    \"output-example-model.bson\",\n",
    "    [10, 35, 35, 35, 10, 1],\n",
    "    [\"identity\", \"relu\", \"relu\", \"identity\", \"identity\"],\n",
    "    true,\n",
    "    \"f32\"\n",
    ")\n",
    "\n",
    "# General Parameters\n",
    "general_params = GeneralParams(0.001, 10000);"
   ]
  },
  {
   "cell_type": "code",
   "execution_count": null,
   "metadata": {},
   "outputs": [],
   "source": [
    "input_model = Extender.load_model(input_nn_params.file_name);"
   ]
  },
  {
   "cell_type": "markdown",
   "metadata": {},
   "source": [
    "## Run Extending of Input model"
   ]
  },
  {
   "cell_type": "code",
   "execution_count": null,
   "metadata": {},
   "outputs": [],
   "source": [
    "output_model = Extender.run_extending(input_model, input_nn_params, output_nn_params, general_params);"
   ]
  },
  {
   "cell_type": "markdown",
   "metadata": {},
   "source": [
    "### Saving of Extended model"
   ]
  },
  {
   "cell_type": "code",
   "execution_count": null,
   "metadata": {},
   "outputs": [],
   "source": [
    "Extender.save_model(output_nn_params.file_name, output_model)"
   ]
  },
  {
   "cell_type": "markdown",
   "metadata": {},
   "source": [
    "## Weights heatmaps"
   ]
  },
  {
   "cell_type": "code",
   "execution_count": null,
   "metadata": {},
   "outputs": [],
   "source": [
    "input_model"
   ]
  },
  {
   "cell_type": "code",
   "execution_count": null,
   "metadata": {},
   "outputs": [],
   "source": [
    "Extender.plot_model_parameters(input_model)"
   ]
  },
  {
   "cell_type": "code",
   "execution_count": null,
   "metadata": {},
   "outputs": [],
   "source": [
    "output_model"
   ]
  },
  {
   "cell_type": "code",
   "execution_count": null,
   "metadata": {},
   "outputs": [],
   "source": [
    "Extender.plot_model_parameters(output_model)"
   ]
  },
  {
   "cell_type": "markdown",
   "metadata": {},
   "source": [
    "# Manual Testing"
   ]
  },
  {
   "cell_type": "code",
   "execution_count": null,
   "metadata": {},
   "outputs": [],
   "source": [
    "scale = 1\n",
    "n1 = size(input_model.layers[1].weight)[2]\n",
    "n2 = size(output_model.layers[1].weight)[2]\n",
    "\n",
    "input_vector1 = rand(n1) .* scale\n",
    "v_2 = rand(n2 - n1) .* scale\n",
    "input_vector2 = vcat(input_vector1, v_2)\n",
    "result1 = input_model(input_vector1)\n",
    "result2 = output_model(input_vector2)\n",
    "difference = abs(result1[1] - result2[1]) / abs(result1[1]) * 100\n",
    "println(\"Input model result: $(result1[1])\")\n",
    "println(\"Output model result: $(result2[1])\")\n",
    "println(\"Relative difference: $(difference) %\")"
   ]
  },
  {
   "cell_type": "code",
   "execution_count": null,
   "metadata": {},
   "outputs": [],
   "source": []
  }
 ],
 "metadata": {
  "kernelspec": {
   "display_name": "Julia 1.10.5",
   "language": "julia",
   "name": "julia-1.10"
  },
  "language_info": {
   "file_extension": ".jl",
   "mimetype": "application/julia",
   "name": "julia",
   "version": "1.10.5"
  }
 },
 "nbformat": 4,
 "nbformat_minor": 2
}
