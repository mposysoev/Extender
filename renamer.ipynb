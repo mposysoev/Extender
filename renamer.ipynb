{
 "cells": [
  {
   "cell_type": "code",
   "execution_count": 1,
   "metadata": {},
   "outputs": [],
   "source": [
    "using BSON\n",
    "using BSON: @save, @load\n",
    "using Flux"
   ]
  },
  {
   "cell_type": "code",
   "execution_count": 6,
   "metadata": {},
   "outputs": [
    {
     "data": {
      "text/plain": [
       "Chain(\n",
       "  Dense(12 => 20; bias=false),          \u001b[90m# 240 parameters\u001b[39m\n",
       "  Dense(20 => 20, relu; bias=false),    \u001b[90m# 400 parameters\u001b[39m\n",
       "  Dense(20 => 20, relu; bias=false),    \u001b[90m# 400 parameters\u001b[39m\n",
       "  Dense(20 => 1; bias=false),           \u001b[90m# 20 parameters\u001b[39m\n",
       ") \u001b[90m                  # Total: 4 arrays, \u001b[39m1_060 parameters, 8.625 KiB."
      ]
     },
     "metadata": {},
     "output_type": "display_data"
    }
   ],
   "source": [
    "BSON.@load \"methanol-model-5-new-desc.bson\" output_model\n",
    "model = output_model"
   ]
  },
  {
   "cell_type": "code",
   "execution_count": 8,
   "metadata": {},
   "outputs": [],
   "source": [
    "@save \"methanol-model-5-new-desc-f.bson\" model"
   ]
  },
  {
   "cell_type": "code",
   "execution_count": null,
   "metadata": {},
   "outputs": [],
   "source": []
  }
 ],
 "metadata": {
  "kernelspec": {
   "display_name": "Julia 1.10.2",
   "language": "julia",
   "name": "julia-1.10"
  },
  "language_info": {
   "file_extension": ".jl",
   "mimetype": "application/julia",
   "name": "julia",
   "version": "1.10.2"
  }
 },
 "nbformat": 4,
 "nbformat_minor": 2
}
